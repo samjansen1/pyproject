{
 "cells": [
  {
   "cell_type": "code",
   "execution_count": 16,
   "metadata": {},
   "outputs": [],
   "source": [
    "import requests"
   ]
  },
  {
   "cell_type": "code",
   "execution_count": 21,
   "metadata": {},
   "outputs": [],
   "source": [
    "# The base URL to use for the request\n",
    "base_url = \"https://api.carbonintensity.org.uk/regional/intensity/\"\n",
    "from_date = '2024-08-26T00:00Z'\n",
    "to_date = '2024-08-26T04:00Z'\n",
    "postcode = \"BN3\"\n"
   ]
  },
  {
   "cell_type": "code",
   "execution_count": 25,
   "metadata": {},
   "outputs": [
    {
     "name": "stdout",
     "output_type": "stream",
     "text": [
      "Response received: OK\n"
     ]
    }
   ],
   "source": [
    "# Make the GET request\n",
    "response = requests.get(base_url+from_date+\"/\"+to_date+\"/postcode/\"+postcode)\n",
    "\n",
    "# Check if the request was successful\n",
    "if response.status_code == 200:\n",
    "    print(\"Response received: OK\")\n",
    "else:\n",
    "    print(f\"Error: {response.status_code}\")"
   ]
  },
  {
   "cell_type": "code",
   "execution_count": 24,
   "metadata": {},
   "outputs": [
    {
     "name": "stdout",
     "output_type": "stream",
     "text": [
      "{'data': {'regionid': 14, 'shortname': 'South East England', 'postcode': 'BN3', 'data': [{'from': '2024-08-25T23:30Z', 'to': '2024-08-26T00:00Z', 'intensity': {'forecast': 142, 'index': 'moderate'}, 'generationmix': [{'fuel': 'biomass', 'perc': 0.4}, {'fuel': 'coal', 'perc': 0}, {'fuel': 'imports', 'perc': 0.2}, {'fuel': 'gas', 'perc': 36}, {'fuel': 'nuclear', 'perc': 7}, {'fuel': 'other', 'perc': 0}, {'fuel': 'hydro', 'perc': 2.4}, {'fuel': 'solar', 'perc': 0}, {'fuel': 'wind', 'perc': 54}]}, {'from': '2024-08-26T00:00Z', 'to': '2024-08-26T00:30Z', 'intensity': {'forecast': 139, 'index': 'moderate'}, 'generationmix': [{'fuel': 'biomass', 'perc': 0.4}, {'fuel': 'coal', 'perc': 0}, {'fuel': 'imports', 'perc': 0.1}, {'fuel': 'gas', 'perc': 35.1}, {'fuel': 'nuclear', 'perc': 7}, {'fuel': 'other', 'perc': 0}, {'fuel': 'hydro', 'perc': 2.4}, {'fuel': 'solar', 'perc': 0.1}, {'fuel': 'wind', 'perc': 54.9}]}, {'from': '2024-08-26T00:30Z', 'to': '2024-08-26T01:00Z', 'intensity': {'forecast': 135, 'index': 'moderate'}, 'generationmix': [{'fuel': 'biomass', 'perc': 0.3}, {'fuel': 'coal', 'perc': 0}, {'fuel': 'imports', 'perc': 0.1}, {'fuel': 'gas', 'perc': 34.3}, {'fuel': 'nuclear', 'perc': 7.1}, {'fuel': 'other', 'perc': 0}, {'fuel': 'hydro', 'perc': 2.2}, {'fuel': 'solar', 'perc': 0}, {'fuel': 'wind', 'perc': 55.9}]}, {'from': '2024-08-26T01:00Z', 'to': '2024-08-26T01:30Z', 'intensity': {'forecast': 127, 'index': 'moderate'}, 'generationmix': [{'fuel': 'biomass', 'perc': 0.4}, {'fuel': 'coal', 'perc': 0}, {'fuel': 'imports', 'perc': 0.1}, {'fuel': 'gas', 'perc': 32.2}, {'fuel': 'nuclear', 'perc': 7.6}, {'fuel': 'other', 'perc': 0}, {'fuel': 'hydro', 'perc': 2.1}, {'fuel': 'solar', 'perc': 0.1}, {'fuel': 'wind', 'perc': 57.5}]}, {'from': '2024-08-26T01:30Z', 'to': '2024-08-26T02:00Z', 'intensity': {'forecast': 124, 'index': 'moderate'}, 'generationmix': [{'fuel': 'biomass', 'perc': 0.4}, {'fuel': 'coal', 'perc': 0}, {'fuel': 'imports', 'perc': 0.1}, {'fuel': 'gas', 'perc': 31.4}, {'fuel': 'nuclear', 'perc': 7.9}, {'fuel': 'other', 'perc': 0}, {'fuel': 'hydro', 'perc': 2.2}, {'fuel': 'solar', 'perc': 0}, {'fuel': 'wind', 'perc': 57.9}]}, {'from': '2024-08-26T02:00Z', 'to': '2024-08-26T02:30Z', 'intensity': {'forecast': 125, 'index': 'moderate'}, 'generationmix': [{'fuel': 'biomass', 'perc': 0.5}, {'fuel': 'coal', 'perc': 0}, {'fuel': 'imports', 'perc': 0.2}, {'fuel': 'gas', 'perc': 31.7}, {'fuel': 'nuclear', 'perc': 7.1}, {'fuel': 'other', 'perc': 0}, {'fuel': 'hydro', 'perc': 1.7}, {'fuel': 'solar', 'perc': 0}, {'fuel': 'wind', 'perc': 58.9}]}, {'from': '2024-08-26T02:30Z', 'to': '2024-08-26T03:00Z', 'intensity': {'forecast': 123, 'index': 'moderate'}, 'generationmix': [{'fuel': 'biomass', 'perc': 0.5}, {'fuel': 'coal', 'perc': 0}, {'fuel': 'imports', 'perc': 0.2}, {'fuel': 'gas', 'perc': 31.2}, {'fuel': 'nuclear', 'perc': 7.5}, {'fuel': 'other', 'perc': 0}, {'fuel': 'hydro', 'perc': 2}, {'fuel': 'solar', 'perc': 0}, {'fuel': 'wind', 'perc': 58.6}]}, {'from': '2024-08-26T03:00Z', 'to': '2024-08-26T03:30Z', 'intensity': {'forecast': 130, 'index': 'moderate'}, 'generationmix': [{'fuel': 'biomass', 'perc': 0.4}, {'fuel': 'coal', 'perc': 0}, {'fuel': 'imports', 'perc': 0.2}, {'fuel': 'gas', 'perc': 32.8}, {'fuel': 'nuclear', 'perc': 8.5}, {'fuel': 'other', 'perc': 0}, {'fuel': 'hydro', 'perc': 2.9}, {'fuel': 'solar', 'perc': 0.1}, {'fuel': 'wind', 'perc': 55.2}]}, {'from': '2024-08-26T03:30Z', 'to': '2024-08-26T04:00Z', 'intensity': {'forecast': 120, 'index': 'moderate'}, 'generationmix': [{'fuel': 'biomass', 'perc': 0.6}, {'fuel': 'coal', 'perc': 0}, {'fuel': 'imports', 'perc': 0.4}, {'fuel': 'gas', 'perc': 30.3}, {'fuel': 'nuclear', 'perc': 8.8}, {'fuel': 'other', 'perc': 0}, {'fuel': 'hydro', 'perc': 3}, {'fuel': 'solar', 'perc': 0}, {'fuel': 'wind', 'perc': 57}]}]}}\n"
     ]
    }
   ],
   "source": [
    "print(response.json())"
   ]
  },
  {
   "cell_type": "code",
   "execution_count": null,
   "metadata": {},
   "outputs": [],
   "source": []
  }
 ],
 "metadata": {
  "kernelspec": {
   "display_name": "venv",
   "language": "python",
   "name": "python3"
  },
  "language_info": {
   "codemirror_mode": {
    "name": "ipython",
    "version": 3
   },
   "file_extension": ".py",
   "mimetype": "text/x-python",
   "name": "python",
   "nbconvert_exporter": "python",
   "pygments_lexer": "ipython3",
   "version": "3.12.5"
  }
 },
 "nbformat": 4,
 "nbformat_minor": 2
}
